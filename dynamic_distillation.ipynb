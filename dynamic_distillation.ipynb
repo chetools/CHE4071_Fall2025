{
  "nbformat": 4,
  "nbformat_minor": 0,
  "metadata": {
    "colab": {
      "provenance": [],
      "authorship_tag": "ABX9TyPpDTNrhpSIIXGUWvH3yZiJ",
      "include_colab_link": true
    },
    "kernelspec": {
      "name": "python3",
      "display_name": "Python 3"
    },
    "language_info": {
      "name": "python"
    }
  },
  "cells": [
    {
      "cell_type": "markdown",
      "metadata": {
        "id": "view-in-github",
        "colab_type": "text"
      },
      "source": [
        "<a href=\"https://colab.research.google.com/github/chetools/CHE4071_Fall2025/blob/main/dynamic_distillation.ipynb\" target=\"_parent\"><img src=\"https://colab.research.google.com/assets/colab-badge.svg\" alt=\"Open In Colab\"/></a>"
      ]
    },
    {
      "cell_type": "code",
      "execution_count": 1,
      "metadata": {
        "colab": {
          "base_uri": "https://localhost:8080/"
        },
        "id": "2IVvN85dWumt",
        "outputId": "8e4be35b-0eaf-4f73-fce2-f4280b7a3073"
      },
      "outputs": [
        {
          "output_type": "stream",
          "name": "stdout",
          "text": [
            "Collecting importnb\n",
            "  Downloading importnb-2023.11.1-py3-none-any.whl.metadata (9.4 kB)\n",
            "Downloading importnb-2023.11.1-py3-none-any.whl (45 kB)\n",
            "\u001b[?25l   \u001b[90m━━━━━━━━━━━━━━━━━━━━━━━━━━━━━━━━━━━━━━━━\u001b[0m \u001b[32m0.0/46.0 kB\u001b[0m \u001b[31m?\u001b[0m eta \u001b[36m-:--:--\u001b[0m\r\u001b[2K   \u001b[90m━━━━━━━━━━━━━━━━━━━━━━━━━━━━━━━━━━━━━━━━\u001b[0m \u001b[32m46.0/46.0 kB\u001b[0m \u001b[31m1.5 MB/s\u001b[0m eta \u001b[36m0:00:00\u001b[0m\n",
            "\u001b[?25hInstalling collected packages: importnb\n",
            "Successfully installed importnb-2023.11.1\n"
          ]
        }
      ],
      "source": [
        "!wget -N -q https://raw.githubusercontent.com/chetools/chetools/main/tools/che5.ipynb -O che5.ipynb\n",
        "!pip install importnb"
      ]
    },
    {
      "cell_type": "code",
      "source": [
        "from importnb import Notebook\n",
        "with Notebook():\n",
        "    from che5 import sim, pid, TF1, TF2, shift\n",
        "\n",
        "import numpy as np\n",
        "import scipy as sp\n",
        "import scipy.signal as sig\n",
        "from plotly.subplots import make_subplots\n",
        "import plotly.io as pio\n",
        "pio.templates.default = \"plotly_dark\"\n",
        "\n",
        "import jax\n",
        "import jax.numpy as jnp\n",
        "jax.config.update(\"jax_enable_x64\", True)\n",
        "\n",
        "import sympy\n",
        "from sympy.abc import s\n",
        "from sympy import exp, Symbol, simplify\n"
      ],
      "metadata": {
        "id": "W0bo2gMdWwAr"
      },
      "execution_count": 2,
      "outputs": []
    },
    {
      "cell_type": "code",
      "source": [
        "N=3\n",
        "Nfeed = 2\n",
        "R = 2. #reflux ratio\n",
        "m0tray = 0.2 #tray holdup in moles at zero flow\n",
        "m0cond = 0.5 #condenser holdup at no flow\n",
        "m0boil = 0.5 #boiler holdup at no flow\n",
        "m0 = np.r_[m0cond, (m0tray,)*N, m0boil]\n",
        "m = np.full(N+2,0.8)  #fill up condenser, reboiler, and trays with 0.8 moles of liquid"
      ],
      "metadata": {
        "id": "jtudOqQNgY2S"
      },
      "execution_count": 22,
      "outputs": []
    },
    {
      "cell_type": "code",
      "source": [
        "m[2]=0.1"
      ],
      "metadata": {
        "id": "vQjzaXNqYMHA"
      },
      "execution_count": 16,
      "outputs": []
    },
    {
      "cell_type": "code",
      "source": [
        "weir_const = 0.1 #lumped Weir constant that includes effect of weir width, density, viscoisty, conversion from volumetric to molar flows"
      ],
      "metadata": {
        "id": "mbkp3l4mWiDU"
      },
      "execution_count": 17,
      "outputs": []
    },
    {
      "cell_type": "code",
      "source": [],
      "metadata": {
        "id": "ydd3Gfk-XE4b"
      },
      "execution_count": 20,
      "outputs": []
    },
    {
      "cell_type": "code",
      "source": [
        "def rhs(t, vec):\n",
        "    m = vec\n",
        "    mdiff = m-m0\n",
        "    L=weir_const*(jnp.where(mdiff<0, 0., mdiff))**(1.5)\n",
        "    D = L[0]/(R+1)\n",
        "    L[0] = R*D\n",
        "    netflows = L        #Out is positive"
      ],
      "metadata": {
        "id": "nJtDE6r6YLMO"
      },
      "execution_count": null,
      "outputs": []
    }
  ]
}