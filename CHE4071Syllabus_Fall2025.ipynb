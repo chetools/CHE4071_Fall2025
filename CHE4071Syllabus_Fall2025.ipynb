{
  "nbformat": 4,
  "nbformat_minor": 0,
  "metadata": {
    "colab": {
      "provenance": [],
      "authorship_tag": "ABX9TyMUSoDBkM1OXdkWLheZQFDo",
      "include_colab_link": true
    },
    "kernelspec": {
      "name": "python3",
      "display_name": "Python 3"
    },
    "language_info": {
      "name": "python"
    }
  },
  "cells": [
    {
      "cell_type": "markdown",
      "metadata": {
        "id": "view-in-github",
        "colab_type": "text"
      },
      "source": [
        "<a href=\"https://colab.research.google.com/github/chetools/CHE4071_Fall2025/blob/main/CHE4071Syllabus_Fall2025.ipynb\" target=\"_parent\"><img src=\"https://colab.research.google.com/assets/colab-badge.svg\" alt=\"Open In Colab\"/></a>"
      ]
    },
    {
      "cell_type": "markdown",
      "metadata": {
        "id": "PiBxWvul6EEV"
      },
      "source": [
        "**CHE 4071 - Process Dynamics and Control**\n",
        "\n",
        "Instructor: Carlos Co<br>\n",
        "email: carlos.co@uc.edu<br>\n",
        "\n",
        "Office hours/Questions:  I respond to emails promptly (typically <5 minutes, and very rarely over 2 hours).  I arrive at every lecture very early often >15 minutes before the start, and stay afterwards for how ever long it takes to answer all questions.  We can also arrange alternative times to meet in person.           "
      ]
    },
    {
      "cell_type": "markdown",
      "metadata": {
        "id": "Ombfx18dsO_G"
      },
      "source": [
        "###Recommended Textbook: Process Dynamics and Control, 3rd Edition, by Seborg, Mellichamp, Edgar, Doyle"
      ]
    },
    {
      "cell_type": "markdown",
      "metadata": {
        "id": "dQGhiM_o6477"
      },
      "source": [
        "##Topics\n",
        "\n",
        "This is course focuses on theoretical model development and computational methods for analyzing and simulating the time varying open and closed loop dynamics of Chemical Engineering processes<br>\n",
        "\n",
        "1. Mathematical modelling of dynamic processes\n",
        "    a. Time-dependent material and energy balances\n",
        "    b. Degree of freedom analysis\n",
        "2. Analytical methods\n",
        "    a.  Laplace transforms\n",
        "    b.  Linearization\n",
        "3. Characteristic dynamics of first, second, and higher-order, systems<br>\n",
        "4. Process identification and empirical model development\n",
        "5. Feedback Control and stabilty (block diagrams, PID, cascade control, and root locus diagrams)\n",
        "6. Frequency response analysis (Bode/Nyquist Diagrams, gain/phase margins)\n",
        "\n"
      ]
    },
    {
      "cell_type": "markdown",
      "metadata": {
        "id": "AMk2GUql-iaR"
      },
      "source": [
        "##Computational Emphasis\n",
        "\n",
        "WHAT IF?  Is a question an engineer should never stop asking.  Any calculation worth doing once in a real engineering situation, is inevitably repeated over and over again for different conditions.  Coding to automate calculations is therefore one of the most valuable engineering skills. We will use Python intensively in this class using Google's Colaboratory Jupyter Notebook environment.  It is highly recommended for you to go through the following free online texts to brush up on your Python skills:\n",
        "\n",
        "https://www.w3schools.com/PYTHON/\n",
        "\n",
        "https://jakevdp.github.io/WhirlwindTourOfPython/\n",
        "\n",
        "https://jakevdp.github.io/PythonDataScienceHandbook/\n",
        "\n",
        "https://colab.research.google.com/notebooks/intro.ipynb\n",
        "\n",
        "https://plotly.com/python/plotly-fundamentals/\n",
        "\n",
        "https://numpy.org/doc/stable/user/quickstart.html"
      ]
    },
    {
      "cell_type": "markdown",
      "metadata": {
        "id": "uCG99BF0_DOB"
      },
      "source": [
        "##Grading\n",
        "\n",
        "Attendance and class participation are mandatory.   If you are absent for a good reason (coop interview, medical, military, etc.) send me an email (carlos.co@uc.edu).  1 email should be sent for EACH lecture missed.  For example, if you will be away for an engineering conference and will miss 2 successive lectures, you should send me a separate email for each missed lecture.  There will be a class attendance sheet on Canvas listing all absences as Excused (Yes/No).  5 or more unexcused absences will result in an unpredictable grade (possibly an F).\n",
        "\n",
        "In the real world, there are no 2 hour exams.  While there are deadlines, no boss will prevent you from working extra at night or weekends on a project.  Success as an engineer comes from persistent attention to detail, hard work, desire to learn, and communication skills.\n",
        "\n",
        "Grading in this course will try to reflect this reality as closely as possible.  There will be ~5 homework problems that require submission of Youtube videos where you present (without looking at notes) solution to problems and write Python code (live) to complete the calculations.  A confirmed YouTube account is <u>mandatory</u> so you can upload playlists with unlimited length videos.<br>\n",
        "\n",
        "You will have ~1.5 weeks to complete each of these multipart videos submitted as YouTube playlists that would range from 30 to 90 minutes long.  Do note that because you are presenting on camera and not allowed to look at notes while you present and write the code, it will take MANY attempts to make a video worthy of submission.  Make your first recording attempt no later than the 3rd day after each part of the HW is assigned.  It will be much harder than you think - do not procrastinate.\n",
        "\n",
        "If you use a pen device to explain/derive relationships and concepts, [this is an example](https://www.youtube.com/watch?v=DWne17epJ6Y&ab_channel=CharlieCo) of how your recording should be setup.  If you use regular pen/paper, do not be overly concerned with hiding the camera that is used to record the paper.  In this case, it might be preferable to use a whiteboard.\n",
        "\n",
        "When explaining/writing code, 3 simultaneous video streams are necessary.  One camera angle facing you, and another environmental camera angle from behind you that shows at least 2/3 of all monitors and the wall (if any) behind you.  [This is an example](https://www.youtube.com/watch?v=4J30jzc3DD8&ab_channel=CharlieCo)  of a possible setup.\n",
        "\n",
        "Irrespective of how exactly your videos are recorded, they should provide <u>IRREFUTABLE</u> evidence that the work is not merely being copied and read aloud. Make short practice takes to make sure that you have locked focus/exposure and that handwriting, face, and screen are legible.\n",
        "\n",
        "For each HW part that is submitted correctly there will be a 1 letter grade deduction on the <u>final transcript letter grade</u> for each month past the due date.  For example, HW1 Parts A, B, C, D are due on Sep 25. If a student submits HW1 Parts A and B on time, but submits Part C on Oct 11, and Part D on Nov 11, whilst submitting all other homeworks within a month of the due date, the total deduction would result in 1+4 = 5 = (A-, B+, B, B-, C+) = C+ for the transcript course letter grade.  If there are any missing HW parts a day before UC's grade submission deadline, I will enter a grade of Incomplete.  Incomplete grades will be converted to F as deductions accumulate.\n",
        "\n",
        "Consider the due date to be a real deadline, and the 1 month no-penalty buffer to be a very generous default extension."
      ]
    }
  ]
}